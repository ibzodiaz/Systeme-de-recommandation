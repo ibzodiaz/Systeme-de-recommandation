{
 "cells": [
  {
   "cell_type": "code",
   "execution_count": 9,
   "id": "3afd9d4e",
   "metadata": {},
   "outputs": [
    {
     "name": "stdout",
     "output_type": "stream",
     "text": [
      "{'MATH': 42.86, 'LLCE': 85.71, 'HGGSP': 28.57, 'SPC': 28.57, 'SES': 42.86, 'HLP': 42.86, 'SVT': 14.29, 'LCA': 14.29}\n"
     ]
    }
   ],
   "source": [
    "from knn import knn\n",
    "\n",
    "def recommandations_specialite(moyenne_second,k):\n",
    "    donnees_brutes = []\n",
    "    with open(\"spe_premiere.csv\",\"r\") as sp:\n",
    "        #passer la premiere ligne\n",
    "        next(sp)\n",
    "        \n",
    "        #lire les données\n",
    "        for line in sp.readlines():\n",
    "            data_row = line.strip().split(\",\")\n",
    "            donnees_brutes.append(data_row)\n",
    "        \n",
    "        #Préparation des données\n",
    "        #on se débarasse de la premiere colonne et des trois dernieres\n",
    "        #et on convertit les nombres en float\n",
    "        donnees_filtrees = []\n",
    "        for row in donnees_brutes:\n",
    "            data_row = list(map(float,row[1:10]))\n",
    "            donnees_filtrees.append(data_row)\n",
    "            \n",
    "        indice_k_plus_proche_voisins = knn(donnees_filtrees,moyenne_second,k)\n",
    "        \n",
    "        spe_recommandees = []\n",
    "        for index in indice_k_plus_proche_voisins:\n",
    "            spe_recommandees.append(donnees_brutes[index])\n",
    "        \n",
    "        return spe_recommandees\n",
    "\n",
    "LABELS_DISCIPLINES = [\"LV1\",\"EPS\",\"FR\",\"HG\",\"LV2\",\"MATH\",\"SPC\",\"SES\",\"SVT\"]\n",
    "\n",
    "MES_MOYENNES = [17.8,11,13.59,12.75,18.27,16.2,10.3,17,7.6]\n",
    "\n",
    "K_VOISINS = 7\n",
    "\n",
    "spe_recommandees = recommandations_specialite(MES_MOYENNES,K_VOISINS)\n",
    "\n",
    "stat_recommandees = {}\n",
    "\n",
    "for spe in spe_recommandees:\n",
    "    for index in range(10,13):\n",
    "        if spe[index] in stat_recommandees.keys():\n",
    "            stat_recommandees[spe[index]] = stat_recommandees[spe[index]] + 1\n",
    "        else:\n",
    "            stat_recommandees[spe[index]] = 1\n",
    "\n",
    "stat_recommandation_pourcentage = {}\n",
    "for key,value in stat_recommandees.items():\n",
    "    stat_recommandation_pourcentage[key] = round(value/K_VOISINS*100,2)\n",
    "    \n",
    "print(stat_recommandation_pourcentage)  \n",
    "    "
   ]
  },
  {
   "cell_type": "code",
   "execution_count": null,
   "id": "06caa50f",
   "metadata": {},
   "outputs": [],
   "source": []
  }
 ],
 "metadata": {
  "kernelspec": {
   "display_name": "Python 3 (ipykernel)",
   "language": "python",
   "name": "python3"
  },
  "language_info": {
   "codemirror_mode": {
    "name": "ipython",
    "version": 3
   },
   "file_extension": ".py",
   "mimetype": "text/x-python",
   "name": "python",
   "nbconvert_exporter": "python",
   "pygments_lexer": "ipython3",
   "version": "3.9.13"
  }
 },
 "nbformat": 4,
 "nbformat_minor": 5
}
